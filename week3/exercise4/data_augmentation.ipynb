{
 "cells": [
  {
   "cell_type": "markdown",
   "metadata": {},
   "source": [
    "# Exercise 4 - Data Augmentation\n",
    "This notebook documents the effect of data augmentation on adversarial examples generated based on FGSM on a simple DNN model trained on MNIST.\n",
    "\n",
    "The experiment comprises of the following parts:\n",
    "\n",
    "Part 1 - Train a model on MNIST  \n",
    "Part 2 - Apply FGSM to generate 5000 adversarial examples  \n",
    "Part 3 - Apply data augmentation with these adversarial examples to train a new MNIST model  \n",
    "Part 4 - Conclusion on the differences\n"
   ]
  },
  {
   "cell_type": "markdown",
   "metadata": {},
   "source": [
    "## Pre-amble"
   ]
  },
  {
   "cell_type": "markdown",
   "metadata": {},
   "source": [
    "### Import libraries"
   ]
  },
  {
   "cell_type": "code",
   "execution_count": 1,
   "metadata": {},
   "outputs": [],
   "source": [
    "import ast\n",
    "import matplotlib.pyplot as plt\n",
    "import numpy as np\n",
    "import os\n",
    "import torch\n",
    "\n",
    "from torch import nn\n",
    "from torch.utils.data import ConcatDataset, Dataset, DataLoader, TensorDataset\n",
    "\n",
    "from torchvision import datasets, transforms\n",
    "from torchvision.transforms import ToTensor\n",
    "\n",
    "import torch.nn.functional as F\n",
    "import torch.optim as optim\n",
    "\n",
    "# CONSTANTS\n",
    "NUM_EPOCHS = 50 # Through experiments, we saw that anything above 50 epochs was overfitting (for the simple DNN model)\n",
    "FORCE_RETRAIN = False"
   ]
  },
  {
   "cell_type": "markdown",
   "metadata": {},
   "source": [
    "### Class definitions\n",
    "Create an MNISTNet class which is based of a neural network architecture"
   ]
  },
  {
   "cell_type": "code",
   "execution_count": 2,
   "metadata": {},
   "outputs": [],
   "source": [
    "class MNISTNet(nn.Module):\n",
    "    def __init__(self):\n",
    "        super().__init__()\n",
    "        self.fc1 = nn.Linear(784, 10)\n",
    "        self.fc2 = nn.Linear(10, 10)\n",
    "        self.fc3 = nn.Linear(10, 10)\n",
    "        self.fc4 = nn.Linear(10, 10)\n",
    "\n",
    "    def forward(self, x):\n",
    "        x = torch.flatten(x, 1)\n",
    "        x = self.fc1(x)\n",
    "        x = F.relu(x)\n",
    "        x = self.fc2(x)\n",
    "        x = F.relu(x)\n",
    "        x = self.fc3(x)\n",
    "        x = F.relu(x)\n",
    "        x = self.fc4(x)\n",
    "        output = x # cross entropy in pytorch already includes softmax\n",
    "        return output"
   ]
  },
  {
   "cell_type": "markdown",
   "metadata": {},
   "source": [
    "### Function definitions"
   ]
  },
  {
   "cell_type": "code",
   "execution_count": 3,
   "metadata": {},
   "outputs": [],
   "source": [
    "def train(model, dataloader, loss_fn, optimizer, device):\n",
    "    size = len(dataloader.dataset)\n",
    "    model.train()\n",
    "\n",
    "    for batch, (x, y) in enumerate(dataloader):\n",
    "        x, y = x.to(device), y.to(device)\n",
    "\n",
    "        # Compute prediction error\n",
    "        pred = model(x)\n",
    "        loss = loss_fn(pred, y)\n",
    "\n",
    "        # Backpropagation\n",
    "        optimizer.zero_grad()\n",
    "        loss.backward()\n",
    "        optimizer.step()\n",
    "\n",
    "        if batch % 100 == 0:\n",
    "            loss, current = loss.item(), batch * len(x)\n",
    "            print('loss: {:.4f} [{}/{}]'.format(loss, current, size))"
   ]
  },
  {
   "cell_type": "code",
   "execution_count": 4,
   "metadata": {},
   "outputs": [],
   "source": [
    "def test(model, dataloader, loss_fn, device):\n",
    "    size = len(dataloader.dataset)\n",
    "    num_batches = len(dataloader)\n",
    "    \n",
    "    model.eval()\n",
    "    loss, correct = 0.0, 0\n",
    "    \n",
    "    with torch.no_grad():\n",
    "        for x, y in dataloader:\n",
    "            x, y = x.to(device), y.to(device)\n",
    "\n",
    "            pred = model(x)\n",
    "            loss += loss_fn(pred, y).item()\n",
    "            correct += (pred.argmax(1) == y).type(torch.int).sum().item()\n",
    "    \n",
    "    loss /= num_batches\n",
    "    correct /= size\n",
    "    print('Test Error: \\n Accuracy: {:.2f}%, Avg loss: {:.4f}\\n'.format(100 * correct, loss))\n",
    "    \n",
    "    return loss"
   ]
  },
  {
   "cell_type": "code",
   "execution_count": 5,
   "metadata": {},
   "outputs": [],
   "source": [
    "def save_model(model, name):\n",
    "    torch.save(model.state_dict(), name)\n",
    "    \n",
    "def load_model(model_class, name):\n",
    "    model = model_class()\n",
    "    model.load_state_dict(torch.load(name))\n",
    "\n",
    "    return model"
   ]
  },
  {
   "cell_type": "markdown",
   "metadata": {},
   "source": [
    "### Attack definitions\n",
    "Define the attacks for FGSM and PGD"
   ]
  },
  {
   "cell_type": "code",
   "execution_count": 6,
   "metadata": {},
   "outputs": [],
   "source": [
    "def denormalize(x):\n",
    "    x = (x * 255).astype('uint8')\n",
    "    x = x.reshape(28,28)\n",
    "\n",
    "    return x\n",
    "\n",
    "\n",
    "def display(x, y, x_adv, y_adv):\n",
    "    x = denormalize(x)\n",
    "    x_adv = denormalize(x_adv)\n",
    "\n",
    "    fig, ax = plt.subplots(1, 2)\n",
    "\n",
    "    ax[0].set(title='Original. Label is {}'.format(y))\n",
    "    ax[1].set(title='Adv. sample. Label is {}'.format(y_adv))\n",
    "\n",
    "    ax[0].imshow(x, cmap='gray')\n",
    "    ax[1].imshow(x_adv, cmap='gray')\n",
    "    \n",
    "    plt.show()"
   ]
  },
  {
   "cell_type": "code",
   "execution_count": 7,
   "metadata": {},
   "outputs": [],
   "source": [
    "def fgsm(model, x, y, eps, adv_dataset=None, target=None): # pass the target label as parameter for the targeted attack\n",
    "    # x is the image sample (Tensor), y is the original label (Tensor)\n",
    "    if target is not None:\n",
    "        target = torch.Tensor([target]).type(torch.LongTensor)\n",
    "        if y == target:\n",
    "            print('\\nThe sample is already classified as the target!!! Skip the sample!!!\\n')\n",
    "            return False\n",
    "\n",
    "    x_adv = x.detach().clone()\n",
    "    x_adv.requires_grad = True\n",
    "\n",
    "    pred = model(x_adv)\n",
    "    loss = F.cross_entropy(pred, y) # modify this line for a targeted attack\n",
    "\n",
    "    loss.backward()\n",
    "\n",
    "    grad_data = x_adv.grad.data\n",
    "    \n",
    "    # Alters the computation depending on whether this is a targeted attack\n",
    "    if target is None:\n",
    "        sign = +1\n",
    "    else:\n",
    "        sign = -1\n",
    "    x_adv = torch.clamp(x_adv + (sign*eps) * grad_data.sign(), 0, 1).detach()\n",
    "\n",
    "    pred_adv = model(x_adv)\n",
    "    y_adv = pred_adv.argmax(1)\n",
    "\n",
    "    if y_adv != y: # modify the condition to catch succesful targeted attacks\n",
    "        y, y_adv = y.item(), y_adv.item()\n",
    "        \n",
    "        if adv_dataset is not None:\n",
    "            adv_dataset.add_sample(x, y, x_adv, y_adv)\n",
    "            \n",
    "        return True\n",
    "    else:\n",
    "        return False"
   ]
  },
  {
   "cell_type": "code",
   "execution_count": 8,
   "metadata": {},
   "outputs": [],
   "source": [
    "def pgd(model, x, y, eps, max_iter=10, adv_dataset=None): # pass the target label as parameter for the targeted attack\n",
    "    # x is the image sample (Tensor), y is the original label (Tensor)\n",
    "\n",
    "    x_adv = x.detach().clone()\n",
    "\n",
    "    for _ in range(max_iter):\n",
    "        x_adv.requires_grad = True\n",
    "\n",
    "        pred = model(x_adv)\n",
    "        loss = F.cross_entropy(pred, y) # modify this line for a targeted attack\n",
    "\n",
    "        loss.backward()\n",
    "\n",
    "        grad_data = x_adv.grad.data\n",
    "        x_adv = torch.clamp(x_adv + eps * grad_data.sign(), 0, 1).detach() # modify this line for a targeted attack\n",
    "\n",
    "        pred_adv = model(x_adv)\n",
    "        y_adv = pred_adv.argmax(1)\n",
    "\n",
    "        if y_adv != y: # modify the condition to catch succesful targeted attacks\n",
    "            # x = x.detach().numpy().reshape(-1)\n",
    "            y, y_adv = y.item(), y_adv.item()\n",
    "            \n",
    "            if adv_dataset is not None:\n",
    "                adv_dataset.add_sample(x, y, x_adv, y_adv)\n",
    "\n",
    "            print('\\nFound an adversarial sample!!!\\n')\n",
    "\n",
    "            print('pred adv = {}'.format(pred_adv.detach().numpy().reshape(-1)))\n",
    "            print('lbl adv = {}\\n'.format(y_adv))\n",
    "\n",
    "            display(x, y, x_adv, y_adv)\n",
    "            return True\n",
    "\n",
    "    print('\\nCan\\'t find adversarial samples!!!\\n')\n",
    "    return False"
   ]
  },
  {
   "cell_type": "markdown",
   "metadata": {},
   "source": [
    "## Part 1 - Train a model on MNIST\n",
    "We train the MNIST model and achieve a test accuracy of 92.55% at the end of 20 epochs"
   ]
  },
  {
   "cell_type": "code",
   "execution_count": 9,
   "metadata": {},
   "outputs": [
    {
     "name": "stdout",
     "output_type": "stream",
     "text": [
      "Model already trained - loading model from file\n"
     ]
    }
   ],
   "source": [
    "\n",
    "device = 'cpu'\n",
    "train_kwargs = {'batch_size': 100}\n",
    "test_kwargs = {'batch_size': 1000}\n",
    "transform = transforms.ToTensor()\n",
    "\n",
    "train_dataset = datasets.MNIST('../data', train=True, download=True, transform=transform)\n",
    "test_dataset = datasets.MNIST('../data', train=False, transform=transform)\n",
    "\n",
    "train_loader = torch.utils.data.DataLoader(train_dataset, **train_kwargs)\n",
    "test_loader = torch.utils.data.DataLoader(test_dataset, **test_kwargs)\n",
    "\n",
    "if FORCE_RETRAIN or not os.path.exists('mnist.pt'): # Only train the model if the mnist.pt file is not there\n",
    "    model = MNISTNet().to(device)\n",
    "\n",
    "    optimizer = optim.SGD(model.parameters(), lr=0.1)\n",
    "    num_of_epochs = NUM_EPOCHS\n",
    "\n",
    "    min_loss = np.Inf\n",
    "    for epoch in range(num_of_epochs):\n",
    "        print('{:=^80}'.format(' Epoch ' + str(epoch) + ' '))\n",
    "        #print('\\n------------- Epoch {} -------------\\n'.format(epoch))\n",
    "        train(model, train_loader, nn.CrossEntropyLoss(), optimizer, device)\n",
    "        epoch_loss = test(model, test_loader, nn.CrossEntropyLoss(), device)\n",
    "        \n",
    "        if epoch_loss < min_loss:\n",
    "            min_loss = epoch_loss\n",
    "            print('Saving model...')\n",
    "            save_model(model, 'mnist.pt')\n",
    "else:\n",
    "    print('Model already trained - loading model from file')\n",
    "    model = load_model(MNISTNet, 'mnist.pt')"
   ]
  },
  {
   "cell_type": "markdown",
   "metadata": {},
   "source": [
    "#### Structure of the `train_dataset`\n",
    "The train_dataset is a generator that has a total of 60,000 samples.  Each record in the generator is a tuple where the first element is a Tensor representing the image, and the second element is the label.\n",
    "\n",
    "Here we show 9 samples as an illustration."
   ]
  },
  {
   "cell_type": "code",
   "execution_count": 10,
   "metadata": {},
   "outputs": [
    {
     "data": {
      "image/png": "[encoded data removed]",
      "text/plain": [
       "<Figure size 640x480 with 9 Axes>"
      ]
     },
     "metadata": {},
     "output_type": "display_data"
    }
   ],
   "source": [
    "n_samples = 9\n",
    "\n",
    "for i in range(n_samples):\n",
    "    plt.subplot(3, 3, i + 1)\n",
    "    plt.imshow(train_dataset[i][0].numpy().squeeze(), cmap='gray_r')\n",
    "    plt.title('Label: {}'.format(train_dataset[i][1]))\n",
    "    plt.axis('off')"
   ]
  },
  {
   "cell_type": "markdown",
   "metadata": {},
   "source": [
    "### View a sample of correctly classified and misclassified images"
   ]
  },
  {
   "cell_type": "markdown",
   "metadata": {},
   "source": [
    "#### Correctly classified"
   ]
  },
  {
   "cell_type": "code",
   "execution_count": 11,
   "metadata": {},
   "outputs": [
    {
     "data": {
      "image/png": "[encoded data removed]",
      "text/plain": [
       "<Figure size 640x480 with 9 Axes>"
      ]
     },
     "metadata": {},
     "output_type": "display_data"
    }
   ],
   "source": [
    "n_samples = 9\n",
    "\n",
    "i = 0\n",
    "for random_sample in torch.utils.data.RandomSampler(train_dataset):\n",
    "    record = train_dataset[random_sample]\n",
    "    img, label = record\n",
    "    y_pred = np.argmax(model(img).detach().numpy())\n",
    "    plt.suptitle('Correct predictions (sample)\\n')\n",
    "    if y_pred == label:\n",
    "        plt.subplot(3, 3, i + 1)\n",
    "        plt.imshow(img.numpy().squeeze(), cmap='gray_r')\n",
    "        plt.title('Label: {}'.format(label))\n",
    "        plt.axis('off')\n",
    "        \n",
    "        i += 1\n",
    "        if i == n_samples:\n",
    "            break"
   ]
  },
  {
   "cell_type": "markdown",
   "metadata": {},
   "source": [
    "#### Incorrectly classified"
   ]
  },
  {
   "cell_type": "code",
   "execution_count": 12,
   "metadata": {},
   "outputs": [
    {
     "data": {
      "image/png": "[encoded data removed]",
      "text/plain": [
       "<Figure size 640x480 with 9 Axes>"
      ]
     },
     "metadata": {},
     "output_type": "display_data"
    }
   ],
   "source": [
    "n_samples = 9\n",
    "\n",
    "i = 0\n",
    "for random_sample in torch.utils.data.RandomSampler(train_dataset, replacement=False):\n",
    "    record = train_dataset[random_sample]\n",
    "    img, label = record\n",
    "    y_pred = np.argmax(model(img).detach().numpy())\n",
    "    plt.suptitle('Incorrect predictions (sample)\\n')\n",
    "    if y_pred != label:\n",
    "        plt.subplot(3, 3, i + 1)\n",
    "        plt.imshow(img.numpy().squeeze(), cmap='gray_r')\n",
    "        plt.title('Predicted: {}'.format(y_pred))\n",
    "        plt.axis('off')\n",
    "        \n",
    "        i += 1\n",
    "        if i == n_samples:\n",
    "            break"
   ]
  },
  {
   "cell_type": "markdown",
   "metadata": {},
   "source": [
    "## Part 2 - Apply FGSM to generate 5000 adversarial examples"
   ]
  },
  {
   "cell_type": "markdown",
   "metadata": {},
   "source": [
    "### Create custom Dataset class to store adversarial samples\n",
    "We implement the mandatory \\_\\_len\\_\\_ and \\_\\_getitem\\_\\_ methods to return a sample of the images stored as a list of tensors.\n",
    "We also implement a custom add_sample() method to progressively append the new adversarial examples to the records."
   ]
  },
  {
   "cell_type": "code",
   "execution_count": 13,
   "metadata": {},
   "outputs": [],
   "source": [
    "import torch\n",
    "class Adversarial_MNIST(torch.utils.data.Dataset):\n",
    "    def __init__(self, transform=None, target_transform=None):\n",
    "        self.x = [] # original data\n",
    "        self.y = [] # original labels\n",
    "        self.x_adv = [] # adversarial samples\n",
    "        self.y_adv = [] # adversarial labels\n",
    "        self.transform = transform\n",
    "        self.target_transform = target_transform\n",
    "\n",
    "    def __len__(self):\n",
    "        return len(self.y)\n",
    "\n",
    "    def __getitem__(self, idx):\n",
    "        x_adv = self.x_adv[idx]\n",
    "        y = self.y[idx]\n",
    "        \n",
    "        if self.transform:\n",
    "            x_adv = self.transform(x_adv)\n",
    "        if self.target_transform:\n",
    "            y = self.target_transform(y)\n",
    "            \n",
    "        # we return this so that we can simply concatenate the original dataset and the adversarial dataset\n",
    "        # we will retrain a new model to recognize the x_adv samples against the actual label\n",
    "        return x_adv, y \n",
    "    \n",
    "    def get_sample(self, idx):\n",
    "        x_adv,y  = self.__getitem__(idx)\n",
    "        x, y_adv = self.x[idx], self.y_adv[idx]\n",
    "        \n",
    "        return (x,y), (x_adv, y_adv)\n",
    "            \n",
    "    \n",
    "    def add_sample(self, x, y, x_adv, y_adv):\n",
    "        self.x.append(x)\n",
    "        self.y.append(y)\n",
    "        self.x_adv.append(x_adv)\n",
    "        self.y_adv.append(y_adv)\n",
    "        "
   ]
  },
  {
   "cell_type": "markdown",
   "metadata": {},
   "source": [
    "### Analyze effect of epsilon on the adversarial samples"
   ]
  },
  {
   "cell_type": "code",
   "execution_count": 14,
   "metadata": {},
   "outputs": [
    {
     "name": "stdout",
     "output_type": "stream",
     "text": [
      "eps: 0.01 - Number of adversarial samples: 3,179/56,957 (5.58%)\n",
      "eps: 0.02 - Number of adversarial samples: 7,996/56,957 (14.04%)\n",
      "eps: 0.03 - Number of adversarial samples: 14,038/56,957 (24.65%)\n",
      "eps: 0.04 - Number of adversarial samples: 20,982/56,957 (36.84%)\n",
      "eps: 0.05 - Number of adversarial samples: 27,745/56,957 (48.71%)\n",
      "eps: 0.1 - Number of adversarial samples: 46,363/56,957 (81.40%)\n",
      "eps: 0.2 - Number of adversarial samples: 55,444/56,957 (97.34%)\n"
     ]
    }
   ],
   "source": [
    "model = load_model(MNISTNet, './mnist.pt')\n",
    "#for eps in [0.01, 0.02, 0.03, 0.04, 0.05, 0.1, 0.2]:\n",
    "for eps in [0.01, 0.02, 0.1, 0.2]:\n",
    "    num_adv, valid_preds = 0, 0\n",
    "    for train_record in train_dataset:\n",
    "        x, y = train_record\n",
    "        \n",
    "        # Firstly, let us check if the model correctly predicts this.  If it doesn't, then it is unfair to credit it to FGSM\n",
    "        y_pred = np.argmax(model(x).detach().numpy())\n",
    "        if y_pred != y:\n",
    "            continue\n",
    "        \n",
    "        valid_preds += 1\n",
    "        y = torch.Tensor([y]).type(torch.LongTensor)\n",
    "\n",
    "        if fgsm(model, x, y, eps): num_adv += 1\n",
    "    print('eps: {} - Number of adversarial samples: {:,}/{:,} ({:.2f}%)'.format(eps, num_adv, valid_preds, num_adv/valid_preds*100))"
   ]
  },
  {
   "cell_type": "markdown",
   "metadata": {},
   "source": [
    "#### Generate adversarial examples to be retrained\n",
    "Based on the above analysis, we need to set epislon to >= 0.02 to get the requisite number of 5000 adversarial samples"
   ]
  },
  {
   "cell_type": "code",
   "execution_count": 15,
   "metadata": {},
   "outputs": [
    {
     "name": "stdout",
     "output_type": "stream",
     "text": [
      "Generated 7996 adversarial images\n"
     ]
    }
   ],
   "source": [
    "num_adv, eps = 0, 0.02\n",
    "\n",
    "num_adv = 0\n",
    "#num_attack = 5000\n",
    "num_attack = np.Inf\n",
    "\n",
    "adv_dataset = Adversarial_MNIST()\n",
    "model = load_model(MNISTNet, './mnist.pt')\n",
    "\n",
    "for train_record in train_dataset:\n",
    "    x, y = train_record\n",
    "    \n",
    "    # Firstly, let us check if the model correctly predicts this.  If it doesn't, then it is unfair to credit it to FGSM\n",
    "    y_pred = np.argmax(model(x).detach().numpy())\n",
    "    if y_pred != y:\n",
    "        continue\n",
    "\n",
    "    y = torch.Tensor([y]).type(torch.LongTensor)\n",
    "    if fgsm(model, x, y, eps, adv_dataset=adv_dataset, target=None): num_adv += 1\n",
    "    \n",
    "    if num_adv >= num_attack:\n",
    "        break\n",
    "\n",
    "\n",
    "print(f'Generated {num_adv} adversarial images')"
   ]
  },
  {
   "cell_type": "markdown",
   "metadata": {},
   "source": [
    "#### Show some random samples"
   ]
  },
  {
   "cell_type": "code",
   "execution_count": 16,
   "metadata": {},
   "outputs": [
    {
     "data": {
      "image/png": "[encoded data removed]",
      "text/plain": [
       "<Figure size 640x480 with 12 Axes>"
      ]
     },
     "metadata": {},
     "output_type": "display_data"
    }
   ],
   "source": [
    "n_samples = 12\n",
    "n_col = 4\n",
    "\n",
    "i = 0\n",
    "for random_sample in torch.utils.data.RandomSampler(adv_dataset):\n",
    "    record = adv_dataset[random_sample]\n",
    "    img, label = record\n",
    "    y_pred = np.argmax(model(img).detach().numpy())\n",
    "    plt.suptitle('Adversarial samples')\n",
    "    plt.subplot(n_samples // n_col, n_col, i + 1)\n",
    "    plt.imshow(img.numpy().squeeze(), cmap='gray_r')\n",
    "    plt.title('{} -> {}'.format(adv_dataset.y[random_sample], adv_dataset.y_adv[random_sample]))\n",
    "    plt.axis('off')\n",
    "    \n",
    "    i += 1\n",
    "    if i == n_samples:\n",
    "        break"
   ]
  },
  {
   "cell_type": "markdown",
   "metadata": {},
   "source": [
    "### Concatenated Dataset\n",
    "Create a concatenated Dataset object with the original training dataset, along with the new adversarial samples that have been created"
   ]
  },
  {
   "cell_type": "code",
   "execution_count": 17,
   "metadata": {},
   "outputs": [],
   "source": [
    "combined_dataset_5k = ConcatDataset([train_dataset, adv_dataset])"
   ]
  },
  {
   "cell_type": "markdown",
   "metadata": {},
   "source": [
    "#### Display some of the examples in the concatenated dataset\n",
    "Display to be sure that the adversarial samples are correct  \n",
    "\n",
    "Here, we should see a perturbed image with the actual training label that we want to correct it to."
   ]
  },
  {
   "cell_type": "code",
   "execution_count": 18,
   "metadata": {},
   "outputs": [
    {
     "data": {
      "image/png": "[encoded data removed]",
      "text/plain": [
       "<Figure size 640x480 with 16 Axes>"
      ]
     },
     "metadata": {},
     "output_type": "display_data"
    }
   ],
   "source": [
    "start_offset = 60000\n",
    "n_samples = 16\n",
    "n_col = 4\n",
    "\n",
    "for i in range(start_offset, start_offset + n_samples - n_samples%n_col):\n",
    "    plt.subplot(n_samples // n_col, n_col, i%start_offset + 1)\n",
    "    plt.imshow(combined_dataset_5k[i][0].numpy().squeeze(), cmap='gray_r')\n",
    "    plt.title('actual label: {}'.format(combined_dataset_5k[i][1]))\n",
    "    plt.axis('off')"
   ]
  },
  {
   "cell_type": "markdown",
   "metadata": {},
   "source": [
    "#### Assertion checks\n",
    "Check that the types and shapes for the images and labels are the same as the original dataset"
   ]
  },
  {
   "cell_type": "code",
   "execution_count": 19,
   "metadata": {},
   "outputs": [],
   "source": [
    "assert type(train_dataset[0]) == type(combined_dataset_5k[60000])\n",
    "\n",
    "# Image\n",
    "assert type(train_dataset[0][0]) == type(combined_dataset_5k[60000][0])\n",
    "assert train_dataset[0][0].shape == combined_dataset_5k[60000][0].shape\n",
    "\n",
    "# Label\n",
    "assert type(train_dataset[0][1]) == type(combined_dataset_5k[60000][1])"
   ]
  },
  {
   "cell_type": "code",
   "execution_count": 20,
   "metadata": {},
   "outputs": [
    {
     "name": "stdout",
     "output_type": "stream",
     "text": [
      "Model already trained - loading model from file\n"
     ]
    }
   ],
   "source": [
    "device = 'cpu'\n",
    "train_kwargs = {'batch_size': 100, 'shuffle': True}\n",
    "test_kwargs = {'batch_size': 1000}\n",
    "transform = transforms.ToTensor()\n",
    "\n",
    "#train_dataset = combined_dataset\n",
    "test_dataset = datasets.MNIST('../data', train=False, transform=transform)\n",
    "\n",
    "train_loader = torch.utils.data.DataLoader(combined_dataset_5k, **train_kwargs)\n",
    "test_loader = torch.utils.data.DataLoader(test_dataset, **test_kwargs)\n",
    "\n",
    "if FORCE_RETRAIN or not os.path.exists('mnist_robust.pt'): # Only train the model if the mnist.pt file is not there\n",
    "    model = MNISTNet().to(device)\n",
    "\n",
    "    optimizer = optim.SGD(model.parameters(), lr=0.1)\n",
    "    num_of_epochs = NUM_EPOCHS\n",
    "\n",
    "    min_loss = np.Inf\n",
    "    for epoch in range(num_of_epochs):\n",
    "        print('{:=^80}'.format(' Epoch ' + str(epoch) + ' '))\n",
    "        #print('\\n------------- Epoch {} -------------\\n'.format(epoch))\n",
    "        train(model, train_loader, nn.CrossEntropyLoss(), optimizer, device)\n",
    "        epoch_loss = test(model, test_loader, nn.CrossEntropyLoss(), device)\n",
    "        \n",
    "        if epoch_loss < min_loss:\n",
    "            min_loss = epoch_loss\n",
    "            print('Saving model...')\n",
    "            save_model(model, 'mnist_robust.pt')\n",
    "else:\n",
    "    print('Model already trained - loading model from file')\n",
    "    model_robust = load_model(MNISTNet, 'mnist_robust.pt')"
   ]
  },
  {
   "cell_type": "markdown",
   "metadata": {},
   "source": [
    "## Part 4"
   ]
  },
  {
   "cell_type": "code",
   "execution_count": 21,
   "metadata": {},
   "outputs": [],
   "source": [
    "model_original = load_model(MNISTNet, './mnist.pt')\n",
    "model_robust = load_model(MNISTNet, './mnist_robust.pt')"
   ]
  },
  {
   "cell_type": "code",
   "execution_count": 22,
   "metadata": {},
   "outputs": [],
   "source": [
    "def attack_success_rate(model, dataset, eps, attack_type='fgsm', adv_dataset=None):\n",
    "    num_adv, valid_preds = 0, 0\n",
    "\n",
    "    # Test on the entire train_dataset to see how many adversarial samples can be generated\n",
    "    for sample in dataset:\n",
    "        x, y = sample\n",
    "        y = torch.Tensor([y]).type(torch.LongTensor)\n",
    "        \n",
    "        # Firstly, let us check if the model correctly predicts this.  If it doesn't, then it is unfair to credit it to FGSM\n",
    "        y_pred = np.argmax(model(x).detach().numpy())\n",
    "        if y_pred != y:\n",
    "            continue\n",
    "        \n",
    "        valid_preds += 1\n",
    "\n",
    "        # pred = model(x)\n",
    "        \n",
    "        if attack_type == 'fgsm':\n",
    "            if fgsm(model, x, y, eps, adv_dataset, target=None): num_adv += 1\n",
    "\n",
    "    return num_adv, valid_preds"
   ]
  },
  {
   "cell_type": "markdown",
   "metadata": {},
   "source": [
    "#### Do a sanity check on the adversarial samples that were included in the training"
   ]
  },
  {
   "cell_type": "code",
   "execution_count": 23,
   "metadata": {},
   "outputs": [
    {
     "data": {
      "text/plain": [
       "7996"
      ]
     },
     "execution_count": 23,
     "metadata": {},
     "output_type": "execute_result"
    }
   ],
   "source": [
    "len(adv_dataset)"
   ]
  },
  {
   "cell_type": "code",
   "execution_count": 25,
   "metadata": {},
   "outputs": [
    {
     "name": "stdout",
     "output_type": "stream",
     "text": [
      "================================ Epsilon = 0.02 ================================\n",
      "No valid predictions for eps = 0.02, evaluation_dataset = <torch.utils.data.dataset.Subset object at 0x14eb68610>\n",
      "Attack success rate with data_augmentation model = 70.36%\n",
      "num_adv = 5175, valid_preds = 7355\n",
      "\n"
     ]
    }
   ],
   "source": [
    "eps = 0.02\n",
    "DISPLAY_SAMPLE = False\n",
    "\n",
    "models_to_test = {\n",
    "    'original': model_original,\n",
    "    'data_augmentation': model_robust,\n",
    "}\n",
    "\n",
    "sample_size = None\n",
    "\n",
    "#for eps in [0.005, 0.01, 0.015, 0.02, 0.03, 0.04, 0.05, 0.1, 0.2]:\n",
    "for eps in [0.02]:\n",
    "    print('{:=^80}'.format(f' Epsilon = {eps} '))\n",
    "    for name, model in models_to_test.items():\n",
    "        if sample_size is not None and sample_size > 0 and sample_size <= len(adv_dataset):\n",
    "            pass\n",
    "        else:\n",
    "            sample_size = len(adv_dataset) # everything\n",
    "        evaluation_dataset = torch.utils.data.Subset(adv_dataset, list(range(sample_size)))\n",
    "        \n",
    "        adv_samples = Adversarial_MNIST()\n",
    "        num_adv, valid_preds = attack_success_rate(model, evaluation_dataset, eps, attack_type='fgsm', adv_dataset=adv_samples)\n",
    "        if not valid_preds:\n",
    "            print(f'No valid predictions for {eps = }, {evaluation_dataset = }')\n",
    "            continue\n",
    "            \n",
    "        success_rate = num_adv / valid_preds * 100\n",
    "        print('Attack success rate with {} model = {:.2f}%'.format(name, success_rate))\n",
    "        print(f'{num_adv = }, {valid_preds = }')\n",
    "        \n",
    "        if DISPLAY_SAMPLE:\n",
    "            n_samples = 16\n",
    "            n_col = 4\n",
    "\n",
    "            for i in range(n_samples - n_samples%n_col):\n",
    "                plt.subplot(n_samples // n_col, n_col, i + 1)\n",
    "                plt.imshow(adv_samples[i][0].numpy().squeeze(), cmap='gray_r')\n",
    "                plt.title('{} -> {}'.format(adv_samples.y[i], adv_samples.y_adv[i]))\n",
    "                plt.axis('off')\n",
    "            plt.show()\n",
    "        else:\n",
    "            print()"
   ]
  },
  {
   "cell_type": "markdown",
   "metadata": {},
   "source": [
    "#### Analysis\n",
    "From the review, we see that the samples from the FGSM samples earlier were classified correctly by the robust model.  This logically makes sense as the FGSM attack vector is a single step optimization to fool the model into misclassifying the sample.  However, if an already FGSM-perturbed image is sent to another FGSM perturbation, there is a possibility for the model to be fooled again depending on the setting of epsilon.\n",
    "\n",
    "As such, any robust models trained using FGSM can only hope to be robust against any samples taking a single-step FGSM computation."
   ]
  },
  {
   "cell_type": "code",
   "execution_count": 27,
   "metadata": {},
   "outputs": [
    {
     "name": "stdout",
     "output_type": "stream",
     "text": [
      "=============================== Epsilon = 0.005 ================================\n",
      "Attack success rate with original model = 2.41%\n",
      "num_adv = 1372, valid_preds = 56957\n",
      "\n",
      "Attack success rate with data_augmentation model = 2.86%\n",
      "num_adv = 1641, valid_preds = 57412\n",
      "\n",
      "================================ Epsilon = 0.01 ================================\n",
      "Attack success rate with original model = 5.58%\n",
      "num_adv = 3179, valid_preds = 56957\n",
      "\n",
      "Attack success rate with data_augmentation model = 6.81%\n",
      "num_adv = 3911, valid_preds = 57412\n",
      "\n",
      "=============================== Epsilon = 0.015 ================================\n",
      "Attack success rate with original model = 9.56%\n",
      "num_adv = 5447, valid_preds = 56957\n",
      "\n",
      "Attack success rate with data_augmentation model = 12.22%\n",
      "num_adv = 7017, valid_preds = 57412\n",
      "\n",
      "================================ Epsilon = 0.02 ================================\n",
      "Attack success rate with original model = 14.04%\n",
      "num_adv = 7996, valid_preds = 56957\n",
      "\n",
      "Attack success rate with data_augmentation model = 18.51%\n",
      "num_adv = 10629, valid_preds = 57412\n",
      "\n",
      "================================ Epsilon = 0.03 ================================\n",
      "Attack success rate with original model = 24.65%\n",
      "num_adv = 14038, valid_preds = 56957\n",
      "\n",
      "Attack success rate with data_augmentation model = 32.87%\n",
      "num_adv = 18872, valid_preds = 57412\n",
      "\n",
      "================================ Epsilon = 0.04 ================================\n",
      "Attack success rate with original model = 36.84%\n",
      "num_adv = 20982, valid_preds = 56957\n",
      "\n",
      "Attack success rate with data_augmentation model = 47.13%\n",
      "num_adv = 27060, valid_preds = 57412\n",
      "\n",
      "================================ Epsilon = 0.05 ================================\n",
      "Attack success rate with original model = 48.71%\n",
      "num_adv = 27745, valid_preds = 56957\n",
      "\n",
      "Attack success rate with data_augmentation model = 59.06%\n",
      "num_adv = 33907, valid_preds = 57412\n",
      "\n",
      "================================ Epsilon = 0.1 =================================\n",
      "Attack success rate with original model = 81.40%\n",
      "num_adv = 46363, valid_preds = 56957\n",
      "\n",
      "Attack success rate with data_augmentation model = 88.75%\n",
      "num_adv = 50955, valid_preds = 57412\n",
      "\n",
      "================================ Epsilon = 0.2 =================================\n",
      "Attack success rate with original model = 97.34%\n",
      "num_adv = 55444, valid_preds = 56957\n",
      "\n",
      "Attack success rate with data_augmentation model = 96.87%\n",
      "num_adv = 55613, valid_preds = 57412\n",
      "\n"
     ]
    }
   ],
   "source": [
    "eps = 0.02\n",
    "DISPLAY_SAMPLE = False\n",
    "\n",
    "models_to_test = {\n",
    "    'original': model_original,\n",
    "    'data_augmentation': model_robust,\n",
    "}\n",
    "\n",
    "sample_size = None\n",
    "\n",
    "for eps in [0.005, 0.01, 0.015, 0.02, 0.03, 0.04, 0.05, 0.1, 0.2]:\n",
    "    print('{:=^80}'.format(f' Epsilon = {eps} '))\n",
    "    for name, model in models_to_test.items():\n",
    "        if sample_size is not None and sample_size > 0 and sample_size <= len(train_dataset):\n",
    "            pass\n",
    "        else:\n",
    "            sample_size = len(train_dataset) # everything\n",
    "        evaluation_dataset = torch.utils.data.Subset(train_dataset, list(range(sample_size)))\n",
    "        \n",
    "        adv_samples = Adversarial_MNIST()\n",
    "        num_adv, valid_preds = attack_success_rate(model, evaluation_dataset, eps, attack_type='fgsm', adv_dataset=adv_samples)\n",
    "        success_rate = num_adv / valid_preds * 100\n",
    "        print('Attack success rate with {} model = {:.2f}%'.format(name, success_rate))\n",
    "        print(f'{num_adv = }, {valid_preds = }')\n",
    "        \n",
    "        if DISPLAY_SAMPLE:\n",
    "            n_samples = 16\n",
    "            n_col = 4\n",
    "\n",
    "            for i in range(n_samples - n_samples%n_col):\n",
    "                plt.subplot(n_samples // n_col, n_col, i + 1)\n",
    "                plt.imshow(adv_samples[i][0].numpy().squeeze(), cmap='gray_r')\n",
    "                plt.title('{} -> {}'.format(adv_samples.y[i], adv_samples.y_adv[i]))\n",
    "                plt.axis('off')\n",
    "            plt.show()\n",
    "        else:\n",
    "            print()"
   ]
  },
  {
   "cell_type": "markdown",
   "metadata": {},
   "source": [
    "From what we can see, the robust model trained on FGSM is not effective against unseen adversarial samples.  This is intuitive too as the non-robust features were specific to the training samples that were seen and there needs to be more samples to have an effect."
   ]
  },
  {
   "cell_type": "code",
   "execution_count": 28,
   "metadata": {},
   "outputs": [
    {
     "data": {
      "text/plain": [
       "(60000, 7996)"
      ]
     },
     "execution_count": 28,
     "metadata": {},
     "output_type": "execute_result"
    }
   ],
   "source": [
    "len(train_dataset), len(adv_dataset)"
   ]
  },
  {
   "cell_type": "code",
   "execution_count": 32,
   "metadata": {},
   "outputs": [
    {
     "data": {
      "text/plain": [
       "(torch.Size([1, 28, 28]), torch.Size([1, 28, 28]))"
      ]
     },
     "execution_count": 32,
     "metadata": {},
     "output_type": "execute_result"
    }
   ],
   "source": [
    "train_dataset[0][0].shape, adv_dataset[0][0].shape"
   ]
  },
  {
   "cell_type": "code",
   "execution_count": 39,
   "metadata": {},
   "outputs": [
    {
     "data": {
      "text/plain": [
       "(tensor([[[0.0000, 0.0000, 0.0000, 0.0000, 0.0000, 0.0000, 0.0000, 0.0000,\n",
       "           0.0000, 0.0000, 0.0000, 0.0000, 0.0000, 0.0000, 0.0000, 0.0000,\n",
       "           0.0000, 0.0000, 0.0000, 0.0000, 0.0000, 0.0000, 0.0000, 0.0000,\n",
       "           0.0000, 0.0000, 0.0000, 0.0000],\n",
       "          [0.0000, 0.0000, 0.0000, 0.0000, 0.0000, 0.0000, 0.0000, 0.0000,\n",
       "           0.0000, 0.0000, 0.0000, 0.0000, 0.0000, 0.0000, 0.0000, 0.0000,\n",
       "           0.0000, 0.0000, 0.0000, 0.0000, 0.0000, 0.0000, 0.0000, 0.0000,\n",
       "           0.0000, 0.0000, 0.0000, 0.0000],\n",
       "          [0.0000, 0.0000, 0.0000, 0.0000, 0.0000, 0.0000, 0.0000, 0.0000,\n",
       "           0.0000, 0.0000, 0.0000, 0.0000, 0.0000, 0.0000, 0.0000, 0.0000,\n",
       "           0.0000, 0.0000, 0.0000, 0.0000, 0.0000, 0.0000, 0.0000, 0.0000,\n",
       "           0.0000, 0.0000, 0.0000, 0.0000],\n",
       "          [0.0000, 0.0000, 0.0000, 0.0000, 0.0000, 0.0000, 0.0000, 0.0000,\n",
       "           0.0000, 0.0000, 0.0000, 0.0000, 0.0000, 0.0000, 0.0000, 0.0000,\n",
       "           0.0000, 0.0000, 0.0000, 0.0000, 0.0000, 0.0000, 0.0000, 0.0000,\n",
       "           0.0000, 0.0000, 0.0000, 0.0000],\n",
       "          [0.0000, 0.0000, 0.0000, 0.0000, 0.0000, 0.0000, 0.0000, 0.0000,\n",
       "           0.0000, 0.0000, 0.0000, 0.0000, 0.0000, 0.0000, 0.0000, 0.0000,\n",
       "           0.0000, 0.0000, 0.0000, 0.0000, 0.0000, 0.0000, 0.0000, 0.0000,\n",
       "           0.0000, 0.0000, 0.0000, 0.0000],\n",
       "          [0.0000, 0.0000, 0.0000, 0.0000, 0.0000, 0.0000, 0.0000, 0.0000,\n",
       "           0.0000, 0.0000, 0.0000, 0.0000, 0.0118, 0.0706, 0.0706, 0.0706,\n",
       "           0.4941, 0.5333, 0.6863, 0.1020, 0.6510, 1.0000, 0.9686, 0.4980,\n",
       "           0.0000, 0.0000, 0.0000, 0.0000],\n",
       "          [0.0000, 0.0000, 0.0000, 0.0000, 0.0000, 0.0000, 0.0000, 0.0000,\n",
       "           0.1176, 0.1412, 0.3686, 0.6039, 0.6667, 0.9922, 0.9922, 0.9922,\n",
       "           0.9922, 0.9922, 0.8824, 0.6745, 0.9922, 0.9490, 0.7647, 0.2510,\n",
       "           0.0000, 0.0000, 0.0000, 0.0000],\n",
       "          [0.0000, 0.0000, 0.0000, 0.0000, 0.0000, 0.0000, 0.0000, 0.1922,\n",
       "           0.9333, 0.9922, 0.9922, 0.9922, 0.9922, 0.9922, 0.9922, 0.9922,\n",
       "           0.9922, 0.9843, 0.3647, 0.3216, 0.3216, 0.2196, 0.1529, 0.0000,\n",
       "           0.0000, 0.0000, 0.0000, 0.0000],\n",
       "          [0.0000, 0.0000, 0.0000, 0.0000, 0.0000, 0.0000, 0.0000, 0.0706,\n",
       "           0.8588, 0.9922, 0.9922, 0.9922, 0.9922, 0.9922, 0.7765, 0.7137,\n",
       "           0.9686, 0.9451, 0.0000, 0.0000, 0.0000, 0.0000, 0.0000, 0.0000,\n",
       "           0.0000, 0.0000, 0.0000, 0.0000],\n",
       "          [0.0000, 0.0000, 0.0000, 0.0000, 0.0000, 0.0000, 0.0000, 0.0000,\n",
       "           0.3137, 0.6118, 0.4196, 0.9922, 0.9922, 0.8039, 0.0431, 0.0000,\n",
       "           0.1686, 0.6039, 0.0000, 0.0000, 0.0000, 0.0000, 0.0000, 0.0000,\n",
       "           0.0000, 0.0000, 0.0000, 0.0000],\n",
       "          [0.0000, 0.0000, 0.0000, 0.0000, 0.0000, 0.0000, 0.0000, 0.0000,\n",
       "           0.0000, 0.0549, 0.0039, 0.6039, 0.9922, 0.3529, 0.0000, 0.0000,\n",
       "           0.0000, 0.0000, 0.0000, 0.0000, 0.0000, 0.0000, 0.0000, 0.0000,\n",
       "           0.0000, 0.0000, 0.0000, 0.0000],\n",
       "          [0.0000, 0.0000, 0.0000, 0.0000, 0.0000, 0.0000, 0.0000, 0.0000,\n",
       "           0.0000, 0.0000, 0.0000, 0.5451, 0.9922, 0.7451, 0.0078, 0.0000,\n",
       "           0.0000, 0.0000, 0.0000, 0.0000, 0.0000, 0.0000, 0.0000, 0.0000,\n",
       "           0.0000, 0.0000, 0.0000, 0.0000],\n",
       "          [0.0000, 0.0000, 0.0000, 0.0000, 0.0000, 0.0000, 0.0000, 0.0000,\n",
       "           0.0000, 0.0000, 0.0000, 0.0431, 0.7451, 0.9922, 0.2745, 0.0000,\n",
       "           0.0000, 0.0000, 0.0000, 0.0000, 0.0000, 0.0000, 0.0000, 0.0000,\n",
       "           0.0000, 0.0000, 0.0000, 0.0000],\n",
       "          [0.0000, 0.0000, 0.0000, 0.0000, 0.0000, 0.0000, 0.0000, 0.0000,\n",
       "           0.0000, 0.0000, 0.0000, 0.0000, 0.1373, 0.9451, 0.8824, 0.6275,\n",
       "           0.4235, 0.0039, 0.0000, 0.0000, 0.0000, 0.0000, 0.0000, 0.0000,\n",
       "           0.0000, 0.0000, 0.0000, 0.0000],\n",
       "          [0.0000, 0.0000, 0.0000, 0.0000, 0.0000, 0.0000, 0.0000, 0.0000,\n",
       "           0.0000, 0.0000, 0.0000, 0.0000, 0.0000, 0.3176, 0.9412, 0.9922,\n",
       "           0.9922, 0.4667, 0.0980, 0.0000, 0.0000, 0.0000, 0.0000, 0.0000,\n",
       "           0.0000, 0.0000, 0.0000, 0.0000],\n",
       "          [0.0000, 0.0000, 0.0000, 0.0000, 0.0000, 0.0000, 0.0000, 0.0000,\n",
       "           0.0000, 0.0000, 0.0000, 0.0000, 0.0000, 0.0000, 0.1765, 0.7294,\n",
       "           0.9922, 0.9922, 0.5882, 0.1059, 0.0000, 0.0000, 0.0000, 0.0000,\n",
       "           0.0000, 0.0000, 0.0000, 0.0000],\n",
       "          [0.0000, 0.0000, 0.0000, 0.0000, 0.0000, 0.0000, 0.0000, 0.0000,\n",
       "           0.0000, 0.0000, 0.0000, 0.0000, 0.0000, 0.0000, 0.0000, 0.0627,\n",
       "           0.3647, 0.9882, 0.9922, 0.7333, 0.0000, 0.0000, 0.0000, 0.0000,\n",
       "           0.0000, 0.0000, 0.0000, 0.0000],\n",
       "          [0.0000, 0.0000, 0.0000, 0.0000, 0.0000, 0.0000, 0.0000, 0.0000,\n",
       "           0.0000, 0.0000, 0.0000, 0.0000, 0.0000, 0.0000, 0.0000, 0.0000,\n",
       "           0.0000, 0.9765, 0.9922, 0.9765, 0.2510, 0.0000, 0.0000, 0.0000,\n",
       "           0.0000, 0.0000, 0.0000, 0.0000],\n",
       "          [0.0000, 0.0000, 0.0000, 0.0000, 0.0000, 0.0000, 0.0000, 0.0000,\n",
       "           0.0000, 0.0000, 0.0000, 0.0000, 0.0000, 0.0000, 0.1804, 0.5098,\n",
       "           0.7176, 0.9922, 0.9922, 0.8118, 0.0078, 0.0000, 0.0000, 0.0000,\n",
       "           0.0000, 0.0000, 0.0000, 0.0000],\n",
       "          [0.0000, 0.0000, 0.0000, 0.0000, 0.0000, 0.0000, 0.0000, 0.0000,\n",
       "           0.0000, 0.0000, 0.0000, 0.0000, 0.1529, 0.5804, 0.8980, 0.9922,\n",
       "           0.9922, 0.9922, 0.9804, 0.7137, 0.0000, 0.0000, 0.0000, 0.0000,\n",
       "           0.0000, 0.0000, 0.0000, 0.0000],\n",
       "          [0.0000, 0.0000, 0.0000, 0.0000, 0.0000, 0.0000, 0.0000, 0.0000,\n",
       "           0.0000, 0.0000, 0.0941, 0.4471, 0.8667, 0.9922, 0.9922, 0.9922,\n",
       "           0.9922, 0.7882, 0.3059, 0.0000, 0.0000, 0.0000, 0.0000, 0.0000,\n",
       "           0.0000, 0.0000, 0.0000, 0.0000],\n",
       "          [0.0000, 0.0000, 0.0000, 0.0000, 0.0000, 0.0000, 0.0000, 0.0000,\n",
       "           0.0902, 0.2588, 0.8353, 0.9922, 0.9922, 0.9922, 0.9922, 0.7765,\n",
       "           0.3176, 0.0078, 0.0000, 0.0000, 0.0000, 0.0000, 0.0000, 0.0000,\n",
       "           0.0000, 0.0000, 0.0000, 0.0000],\n",
       "          [0.0000, 0.0000, 0.0000, 0.0000, 0.0000, 0.0000, 0.0706, 0.6706,\n",
       "           0.8588, 0.9922, 0.9922, 0.9922, 0.9922, 0.7647, 0.3137, 0.0353,\n",
       "           0.0000, 0.0000, 0.0000, 0.0000, 0.0000, 0.0000, 0.0000, 0.0000,\n",
       "           0.0000, 0.0000, 0.0000, 0.0000],\n",
       "          [0.0000, 0.0000, 0.0000, 0.0000, 0.2157, 0.6745, 0.8863, 0.9922,\n",
       "           0.9922, 0.9922, 0.9922, 0.9569, 0.5216, 0.0431, 0.0000, 0.0000,\n",
       "           0.0000, 0.0000, 0.0000, 0.0000, 0.0000, 0.0000, 0.0000, 0.0000,\n",
       "           0.0000, 0.0000, 0.0000, 0.0000],\n",
       "          [0.0000, 0.0000, 0.0000, 0.0000, 0.5333, 0.9922, 0.9922, 0.9922,\n",
       "           0.8314, 0.5294, 0.5176, 0.0627, 0.0000, 0.0000, 0.0000, 0.0000,\n",
       "           0.0000, 0.0000, 0.0000, 0.0000, 0.0000, 0.0000, 0.0000, 0.0000,\n",
       "           0.0000, 0.0000, 0.0000, 0.0000],\n",
       "          [0.0000, 0.0000, 0.0000, 0.0000, 0.0000, 0.0000, 0.0000, 0.0000,\n",
       "           0.0000, 0.0000, 0.0000, 0.0000, 0.0000, 0.0000, 0.0000, 0.0000,\n",
       "           0.0000, 0.0000, 0.0000, 0.0000, 0.0000, 0.0000, 0.0000, 0.0000,\n",
       "           0.0000, 0.0000, 0.0000, 0.0000],\n",
       "          [0.0000, 0.0000, 0.0000, 0.0000, 0.0000, 0.0000, 0.0000, 0.0000,\n",
       "           0.0000, 0.0000, 0.0000, 0.0000, 0.0000, 0.0000, 0.0000, 0.0000,\n",
       "           0.0000, 0.0000, 0.0000, 0.0000, 0.0000, 0.0000, 0.0000, 0.0000,\n",
       "           0.0000, 0.0000, 0.0000, 0.0000],\n",
       "          [0.0000, 0.0000, 0.0000, 0.0000, 0.0000, 0.0000, 0.0000, 0.0000,\n",
       "           0.0000, 0.0000, 0.0000, 0.0000, 0.0000, 0.0000, 0.0000, 0.0000,\n",
       "           0.0000, 0.0000, 0.0000, 0.0000, 0.0000, 0.0000, 0.0000, 0.0000,\n",
       "           0.0000, 0.0000, 0.0000, 0.0000]]]),\n",
       " 5)"
      ]
     },
     "execution_count": 39,
     "metadata": {},
     "output_type": "execute_result"
    }
   ],
   "source": [
    "train_dataset[0]"
   ]
  },
  {
   "cell_type": "code",
   "execution_count": 40,
   "metadata": {},
   "outputs": [
    {
     "data": {
      "text/plain": [
       "(tensor([[[0.0200, 0.0000, 0.0200, 0.0200, 0.0200, 0.0000, 0.0200, 0.0000,\n",
       "           0.0200, 0.0200, 0.0200, 0.0200, 0.0200, 0.0200, 0.0000, 0.0000,\n",
       "           0.0000, 0.0000, 0.0000, 0.0200, 0.0000, 0.0000, 0.0200, 0.0000,\n",
       "           0.0200, 0.0000, 0.0200, 0.0200],\n",
       "          [0.0000, 0.0200, 0.0200, 0.0000, 0.0000, 0.0000, 0.0200, 0.0000,\n",
       "           0.0000, 0.0000, 0.0000, 0.0000, 0.0000, 0.0000, 0.0200, 0.0200,\n",
       "           0.0000, 0.0000, 0.0200, 0.0000, 0.0000, 0.0200, 0.0000, 0.0000,\n",
       "           0.0200, 0.0200, 0.0000, 0.0200],\n",
       "          [0.0000, 0.0000, 0.0200, 0.0000, 0.0000, 0.0200, 0.0200, 0.0000,\n",
       "           0.0000, 0.0000, 0.0000, 0.0000, 0.0000, 0.0000, 0.0000, 0.0000,\n",
       "           0.0000, 0.0000, 0.0000, 0.0000, 0.0000, 0.0000, 0.0000, 0.0000,\n",
       "           0.0000, 0.0000, 0.0200, 0.0000],\n",
       "          [0.0000, 0.0000, 0.0000, 0.0200, 0.0000, 0.0000, 0.0000, 0.0000,\n",
       "           0.0000, 0.0000, 0.0000, 0.0000, 0.0000, 0.0000, 0.0000, 0.0000,\n",
       "           0.1133, 0.6427, 1.0000, 0.1369, 0.0000, 0.0000, 0.0000, 0.0000,\n",
       "           0.0000, 0.0000, 0.0000, 0.0000],\n",
       "          [0.0000, 0.0200, 0.0000, 0.0000, 0.0200, 0.0200, 0.0000, 0.0000,\n",
       "           0.0000, 0.0000, 0.0000, 0.0200, 0.0000, 0.0200, 0.0000, 0.2475,\n",
       "           0.9690, 0.8467, 0.5808, 0.0867, 0.0200, 0.0200, 0.0000, 0.0000,\n",
       "           0.0200, 0.0200, 0.0200, 0.0000],\n",
       "          [0.0000, 0.0000, 0.0000, 0.0200, 0.0200, 0.0200, 0.0200, 0.0200,\n",
       "           0.0000, 0.0200, 0.0000, 0.0000, 0.0000, 0.0000, 0.2741, 0.9486,\n",
       "           0.5408, 0.0192, 0.0000, 0.0200, 0.0200, 0.0200, 0.0200, 0.0200,\n",
       "           0.0200, 0.0200, 0.0200, 0.0000],\n",
       "          [0.0200, 0.0200, 0.0200, 0.0200, 0.0200, 0.0200, 0.0200, 0.0000,\n",
       "           0.0200, 0.0200, 0.0000, 0.0200, 0.0200, 0.1251, 0.9808, 0.7416,\n",
       "           0.0000, 0.0000, 0.0200, 0.0200, 0.0200, 0.0000, 0.0200, 0.0200,\n",
       "           0.0200, 0.0200, 0.0200, 0.0000],\n",
       "          [0.0000, 0.0200, 0.0200, 0.0000, 0.0000, 0.0200, 0.0200, 0.0200,\n",
       "           0.0200, 0.0200, 0.0200, 0.0000, 0.0514, 0.7329, 0.8043, 0.0349,\n",
       "           0.0200, 0.0200, 0.0200, 0.0200, 0.0200, 0.0200, 0.0000, 0.0200,\n",
       "           0.0200, 0.0200, 0.0200, 0.0000],\n",
       "          [0.0000, 0.0000, 0.0200, 0.0200, 0.0200, 0.0200, 0.0000, 0.0200,\n",
       "           0.0200, 0.0200, 0.0200, 0.0000, 0.5251, 0.9886, 0.0898, 0.0200,\n",
       "           0.0000, 0.0200, 0.0200, 0.0200, 0.0200, 0.0200, 0.0200, 0.0200,\n",
       "           0.0200, 0.0200, 0.0200, 0.0200],\n",
       "          [0.0200, 0.0000, 0.0200, 0.0000, 0.0200, 0.0000, 0.0200, 0.0200,\n",
       "           0.0200, 0.0200, 0.0200, 0.0475, 0.9259, 0.7376, 0.0200, 0.0000,\n",
       "           0.0200, 0.0200, 0.0000, 0.0200, 0.0000, 0.0200, 0.0200, 0.0000,\n",
       "           0.0200, 0.0200, 0.0200, 0.0200],\n",
       "          [0.0200, 0.0000, 0.0200, 0.0200, 0.0200, 0.0200, 0.0000, 0.0200,\n",
       "           0.0200, 0.0200, 0.0200, 0.5102, 0.9729, 0.2161, 0.0000, 0.0000,\n",
       "           0.0000, 0.0000, 0.0000, 0.0000, 0.0000, 0.0200, 0.0000, 0.0200,\n",
       "           0.0200, 0.0200, 0.0200, 0.0200],\n",
       "          [0.0000, 0.0200, 0.0200, 0.0200, 0.0200, 0.0200, 0.0200, 0.0200,\n",
       "           0.0200, 0.0200, 0.0200, 0.7447, 0.7016, 0.0000, 0.0200, 0.0200,\n",
       "           0.0200, 0.0000, 0.0000, 0.0000, 0.0000, 0.0000, 0.0000, 0.0200,\n",
       "           0.0200, 0.0200, 0.0200, 0.0000],\n",
       "          [0.0200, 0.0200, 0.0200, 0.0000, 0.0000, 0.0200, 0.0000, 0.0200,\n",
       "           0.0000, 0.0000, 0.2192, 0.9643, 0.1408, 0.0200, 0.0200, 0.0200,\n",
       "           0.2710, 0.1886, 0.0200, 0.0000, 0.0000, 0.0000, 0.0000, 0.0000,\n",
       "           0.0000, 0.0200, 0.0200, 0.0200],\n",
       "          [0.0000, 0.0200, 0.0200, 0.0000, 0.0200, 0.0000, 0.0000, 0.0000,\n",
       "           0.0000, 0.0000, 0.5761, 0.8035, 0.0475, 0.0200, 0.3965, 0.9494,\n",
       "           1.0000, 0.9886, 0.3996, 0.0000, 0.0200, 0.0200, 0.0000, 0.0000,\n",
       "           0.0000, 0.0200, 0.0000, 0.0200],\n",
       "          [0.0000, 0.0200, 0.0200, 0.0000, 0.0000, 0.0000, 0.0000, 0.0000,\n",
       "           0.0000, 0.0200, 1.0000, 0.3094, 0.0200, 0.0435, 0.8945, 0.3094,\n",
       "           0.0710, 0.3612, 0.9447, 0.2624, 0.0000, 0.0000, 0.0000, 0.0000,\n",
       "           0.0000, 0.0000, 0.0000, 0.0000],\n",
       "          [0.0000, 0.0200, 0.0200, 0.0000, 0.0000, 0.0000, 0.0000, 0.0000,\n",
       "           0.0000, 0.1486, 1.0000, 0.3337, 0.0200, 0.2396, 0.6122, 0.0000,\n",
       "           0.0200, 0.0000, 0.5965, 0.7769, 0.0000, 0.0000, 0.0200, 0.0200,\n",
       "           0.0000, 0.0000, 0.0000, 0.0000],\n",
       "          [0.0200, 0.0200, 0.0200, 0.0200, 0.0000, 0.0000, 0.0000, 0.0000,\n",
       "           0.0000, 0.2427, 0.9761, 0.1408, 0.0200, 0.0710, 0.0945, 0.0200,\n",
       "           0.0000, 0.0000, 0.1847, 0.9722, 0.0000, 0.0000, 0.0200, 0.0200,\n",
       "           0.0000, 0.0000, 0.0000, 0.0000],\n",
       "          [0.0200, 0.0200, 0.0200, 0.0200, 0.0000, 0.0000, 0.0200, 0.0000,\n",
       "           0.0000, 0.2427, 0.9761, 0.0310, 0.0200, 0.0200, 0.0200, 0.0200,\n",
       "           0.0200, 0.0000, 0.0349, 0.9722, 0.0000, 0.0000, 0.0000, 0.0200,\n",
       "           0.0000, 0.0000, 0.0000, 0.0000],\n",
       "          [0.0000, 0.0200, 0.0200, 0.0200, 0.0000, 0.0000, 0.0200, 0.0000,\n",
       "           0.0000, 0.2467, 0.9800, 0.0310, 0.0000, 0.0000, 0.0000, 0.0000,\n",
       "           0.0000, 0.0000, 0.2820, 0.9612, 0.0200, 0.0000, 0.0000, 0.0000,\n",
       "           0.0000, 0.0000, 0.0000, 0.0000],\n",
       "          [0.0200, 0.0200, 0.0200, 0.0200, 0.0000, 0.0000, 0.0000, 0.0000,\n",
       "           0.0000, 0.2427, 0.9761, 0.0310, 0.0000, 0.0000, 0.0000, 0.0000,\n",
       "           0.0000, 0.0000, 0.6898, 0.5565, 0.0000, 0.0000, 0.0000, 0.0200,\n",
       "           0.0000, 0.0000, 0.0000, 0.0000],\n",
       "          [0.0000, 0.0200, 0.0200, 0.0000, 0.0000, 0.0000, 0.0200, 0.0000,\n",
       "           0.0000, 0.0780, 0.8780, 0.3918, 0.0000, 0.0200, 0.0200, 0.0000,\n",
       "           0.0000, 0.6318, 0.8153, 0.0984, 0.0200, 0.0000, 0.0200, 0.0200,\n",
       "           0.0000, 0.0000, 0.0000, 0.0000],\n",
       "          [0.0200, 0.0000, 0.0000, 0.0000, 0.0200, 0.0200, 0.0200, 0.0000,\n",
       "           0.0200, 0.0200, 0.3996, 0.9847, 0.3918, 0.0349, 0.2122, 0.3925,\n",
       "           0.8710, 0.7996, 0.1259, 0.0000, 0.0200, 0.0200, 0.0000, 0.0000,\n",
       "           0.0000, 0.0000, 0.0000, 0.0200],\n",
       "          [0.0200, 0.0000, 0.0000, 0.0000, 0.0200, 0.0200, 0.0200, 0.0200,\n",
       "           0.0200, 0.0200, 0.0000, 0.3996, 0.9447, 0.9722, 1.0000, 0.9612,\n",
       "           0.4898, 0.0435, 0.0200, 0.0200, 0.0200, 0.0000, 0.0000, 0.0000,\n",
       "           0.0000, 0.0000, 0.0200, 0.0200],\n",
       "          [0.0200, 0.0000, 0.0200, 0.0200, 0.0200, 0.0200, 0.0000, 0.0000,\n",
       "           0.0200, 0.0200, 0.0000, 0.0000, 0.0200, 0.0000, 0.0200, 0.0000,\n",
       "           0.0200, 0.0200, 0.0000, 0.0200, 0.0000, 0.0000, 0.0000, 0.0000,\n",
       "           0.0000, 0.0000, 0.0200, 0.0000],\n",
       "          [0.0200, 0.0000, 0.0200, 0.0200, 0.0200, 0.0200, 0.0200, 0.0200,\n",
       "           0.0200, 0.0200, 0.0200, 0.0200, 0.0000, 0.0000, 0.0000, 0.0000,\n",
       "           0.0000, 0.0200, 0.0000, 0.0000, 0.0000, 0.0000, 0.0000, 0.0000,\n",
       "           0.0000, 0.0000, 0.0200, 0.0200],\n",
       "          [0.0000, 0.0000, 0.0000, 0.0200, 0.0000, 0.0200, 0.0000, 0.0200,\n",
       "           0.0200, 0.0200, 0.0200, 0.0000, 0.0200, 0.0200, 0.0200, 0.0200,\n",
       "           0.0000, 0.0000, 0.0200, 0.0200, 0.0000, 0.0200, 0.0200, 0.0000,\n",
       "           0.0200, 0.0000, 0.0200, 0.0000],\n",
       "          [0.0000, 0.0000, 0.0000, 0.0200, 0.0200, 0.0200, 0.0000, 0.0000,\n",
       "           0.0000, 0.0200, 0.0200, 0.0000, 0.0200, 0.0000, 0.0200, 0.0200,\n",
       "           0.0200, 0.0200, 0.0200, 0.0200, 0.0000, 0.0000, 0.0000, 0.0000,\n",
       "           0.0000, 0.0000, 0.0200, 0.0200],\n",
       "          [0.0000, 0.0200, 0.0000, 0.0000, 0.0000, 0.0200, 0.0000, 0.0000,\n",
       "           0.0000, 0.0000, 0.0000, 0.0000, 0.0200, 0.0000, 0.0200, 0.0200,\n",
       "           0.0000, 0.0000, 0.0200, 0.0000, 0.0000, 0.0200, 0.0200, 0.0200,\n",
       "           0.0000, 0.0000, 0.0000, 0.0000]]]),\n",
       " 6)"
      ]
     },
     "execution_count": 40,
     "metadata": {},
     "output_type": "execute_result"
    }
   ],
   "source": [
    "adv_dataset[0]"
   ]
  },
  {
   "cell_type": "markdown",
   "metadata": {},
   "source": []
  }
 ],
 "metadata": {
  "kernelspec": {
   "display_name": "Python 3.9.13 ('cs612')",
   "language": "python",
   "name": "python3"
  },
  "language_info": {
   "codemirror_mode": {
    "name": "ipython",
    "version": 3
   },
   "file_extension": ".py",
   "mimetype": "text/x-python",
   "name": "python",
   "nbconvert_exporter": "python",
   "pygments_lexer": "ipython3",
   "version": "3.9.13"
  },
  "orig_nbformat": 4,
  "vscode": {
   "interpreter": {
    "hash": "206223e410812d0afdcb242eda0a0633f7d1b10f2eff4148c3070a8369feddef"
   }
  }
 },
 "nbformat": 4,
 "nbformat_minor": 2
}
